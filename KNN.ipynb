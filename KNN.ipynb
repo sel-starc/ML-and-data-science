{
 "cells": [
  {
   "cell_type": "code",
   "execution_count": 1,
   "id": "b5c3ff47",
   "metadata": {},
   "outputs": [],
   "source": [
    "import numpy as np\n",
    "import pandas as pd\n",
    "from sklearn import neighbors, metrics\n",
    "from sklearn.model_selection import train_test_split\n",
    "from sklearn.preprocessing import LabelEncoder\n"
   ]
  },
  {
   "cell_type": "code",
   "execution_count": 2,
   "id": "fe27e3cd",
   "metadata": {},
   "outputs": [
    {
     "name": "stdout",
     "output_type": "stream",
     "text": [
      "  buying  maint doors persons lug_boot safety  class\n",
      "0  vhigh  vhigh     2       2    small    low  unacc\n",
      "1  vhigh  vhigh     2       2    small    med  unacc\n",
      "2  vhigh  vhigh     2       2    small   high  unacc\n",
      "3  vhigh  vhigh     2       2      med    low  unacc\n",
      "4  vhigh  vhigh     2       2      med    med  unacc\n"
     ]
    }
   ],
   "source": [
    "data= pd.read_csv('car.data')\n",
    "print(data.head())"
   ]
  },
  {
   "cell_type": "code",
   "execution_count": 3,
   "id": "2226b04e",
   "metadata": {},
   "outputs": [
    {
     "name": "stdout",
     "output_type": "stream",
     "text": [
      "[['vhigh' 'vhigh' 'low']\n",
      " ['vhigh' 'vhigh' 'med']\n",
      " ['vhigh' 'vhigh' 'high']\n",
      " ...\n",
      " ['low' 'low' 'low']\n",
      " ['low' 'low' 'med']\n",
      " ['low' 'low' 'high']]       class\n",
      "0     unacc\n",
      "1     unacc\n",
      "2     unacc\n",
      "3     unacc\n",
      "4     unacc\n",
      "...     ...\n",
      "1723   good\n",
      "1724  vgood\n",
      "1725  unacc\n",
      "1726   good\n",
      "1727  vgood\n",
      "\n",
      "[1728 rows x 1 columns]\n"
     ]
    }
   ],
   "source": [
    "X=data[['buying','maint','safety']].values\n",
    "y=data[['class']]\n",
    "print(X,y)"
   ]
  },
  {
   "cell_type": "code",
   "execution_count": 4,
   "id": "3293c0fb",
   "metadata": {},
   "outputs": [
    {
     "name": "stdout",
     "output_type": "stream",
     "text": [
      "[[3 'vhigh' 'low']\n",
      " [3 'vhigh' 'med']\n",
      " [3 'vhigh' 'high']\n",
      " ...\n",
      " [1 'low' 'low']\n",
      " [1 'low' 'med']\n",
      " [1 'low' 'high']]\n",
      "[[3 3 'low']\n",
      " [3 3 'med']\n",
      " [3 3 'high']\n",
      " ...\n",
      " [1 1 'low']\n",
      " [1 1 'med']\n",
      " [1 1 'high']]\n",
      "[[3 3 1]\n",
      " [3 3 2]\n",
      " [3 3 0]\n",
      " ...\n",
      " [1 1 1]\n",
      " [1 1 2]\n",
      " [1 1 0]]\n"
     ]
    }
   ],
   "source": [
    "#converting the data (X)\n",
    "Le=LabelEncoder()\n",
    "for i in range (len(X[0])):\n",
    "    X[:,i]=Le.fit_transform(X[:,i])\n",
    "    print (X)"
   ]
  },
  {
   "cell_type": "code",
   "execution_count": 5,
   "id": "fac1052a",
   "metadata": {},
   "outputs": [
    {
     "name": "stdout",
     "output_type": "stream",
     "text": [
      "[[0]\n",
      " [0]\n",
      " [0]\n",
      " ...\n",
      " [0]\n",
      " [2]\n",
      " [3]]\n"
     ]
    },
    {
     "name": "stderr",
     "output_type": "stream",
     "text": [
      "C:\\Users\\KIIT\\AppData\\Local\\Temp\\ipykernel_28640\\723181935.py:4: SettingWithCopyWarning: \n",
      "A value is trying to be set on a copy of a slice from a DataFrame.\n",
      "Try using .loc[row_indexer,col_indexer] = value instead\n",
      "\n",
      "See the caveats in the documentation: https://pandas.pydata.org/pandas-docs/stable/user_guide/indexing.html#returning-a-view-versus-a-copy\n",
      "  y['class']=y['class'].map(label_mapping)\n"
     ]
    }
   ],
   "source": [
    "#converting y\n",
    "#mapping\n",
    "label_mapping={'unacc':0,'acc':1,'good':2,'vgood':3}\n",
    "y['class']=y['class'].map(label_mapping)\n",
    "y=np.array(y)\n",
    "print (y)"
   ]
  },
  {
   "cell_type": "code",
   "execution_count": 8,
   "id": "8b1c31ac",
   "metadata": {},
   "outputs": [
    {
     "name": "stdout",
     "output_type": "stream",
     "text": [
      "predictions: [0 0 0 0 0 3 0 0 0 1 0 0 3 3 0 0 3 0 0 1 0 1 1 1 2 0 3 2 0 0 1 3 0 0 0 1 1\n",
      " 0 0 3 0 1 1 1 0 0 0 0 3 0 0 0 1 2 0 2 0 0 1 3 1 0 0 1 0 0 2 0 1 1 0 0 0 0\n",
      " 0 0 1 1 2 3 0 0 0 2 0 0 0 1 0 1 3 0 3 0 1 0 1 1 0 0 0 1 0 3 1 0 0 1 0 0 1\n",
      " 1 0 1 0 1 0 0 1 0 0 0 0 0 1 0 0 0 0 0 3 0 0 1 1 0 0 0 3 0 1 0 0 0 1 3 0 0\n",
      " 0 0 1 0 1 3 0 0 0 0 0 0 0 0 1 0 0 0 0 0 0 1 0 1 0 0 1 2 0 1 0 0 0 0 0 0 0\n",
      " 0 0 1 0 0 1 0 0 1 1 0 0 0 0 1 0 0 0 0 0 0 0 2 1 0 0 0 1 1 0 1 0 0 1 0 0 0\n",
      " 0 3 0 1 0 0 0 0 0 0 0 3 0 1 0 3 3 0 0 0 0 0 0 3 0 0 0 2 1 0 0 0 1 0 0 0 0\n",
      " 2 0 0 0 1 1 0 0 1 1 0 1 0 0 0 0 1 1 1 0 0 0 0 0 0 0 3 0 1 0 0 0 3 1 0 3 0\n",
      " 1 0 0 1 1 0 0 0 0 1 0 1 0 0 1 0 0 0 0 1 1 1 0 0 0 0 0 3 3 0 0 0 0 0 3 1 0\n",
      " 0 0 0 3 0 0 1 1 0 0 3 2 0]\n",
      "accuracy: 0.7427745664739884\n"
     ]
    },
    {
     "name": "stderr",
     "output_type": "stream",
     "text": [
      "C:\\Users\\KIIT\\AppData\\Local\\Programs\\Python\\Python310\\lib\\site-packages\\sklearn\\neighbors\\_classification.py:198: DataConversionWarning: A column-vector y was passed when a 1d array was expected. Please change the shape of y to (n_samples,), for example using ravel().\n",
      "  return self._fit(X, y)\n"
     ]
    }
   ],
   "source": [
    "#create model\n",
    "knn=neighbors.KNeighborsClassifier(n_neighbors=25,weights='uniform')\n",
    "#\n",
    "X_train,X_test,y_train,y_test=train_test_split(X,y,test_size=0.2)\n",
    "knn.fit(X_train,y_train)\n",
    "prediction =knn.predict(X_test)\n",
    "accuracy=metrics.accuracy_score(y_test,prediction)\n",
    "print(\"predictions:\",prediction)\n",
    "print(\"accuracy:\",accuracy)"
   ]
  },
  {
   "cell_type": "code",
   "execution_count": 15,
   "id": "374d5145",
   "metadata": {},
   "outputs": [
    {
     "ename": "AttributeError",
     "evalue": "'numpy.ndarray' object has no attribute 'values'",
     "output_type": "error",
     "traceback": [
      "\u001b[1;31m---------------------------------------------------------------------------\u001b[0m",
      "\u001b[1;31mAttributeError\u001b[0m                            Traceback (most recent call last)",
      "Input \u001b[1;32mIn [15]\u001b[0m, in \u001b[0;36m<module>\u001b[1;34m\u001b[0m\n\u001b[0;32m      1\u001b[0m \u001b[38;5;28;01mfrom\u001b[39;00m \u001b[38;5;21;01msklearn\u001b[39;00m\u001b[38;5;21;01m.\u001b[39;00m\u001b[38;5;21;01mmetrics\u001b[39;00m \u001b[38;5;28;01mimport\u001b[39;00m confusion_matrix\n\u001b[1;32m----> 2\u001b[0m \u001b[38;5;28mprint\u001b[39m(confusion_matrix(\u001b[43my_test\u001b[49m\u001b[38;5;241;43m.\u001b[39;49m\u001b[43mvalues\u001b[49m\u001b[38;5;241m.\u001b[39margmax(axis\u001b[38;5;241m=\u001b[39m\u001b[38;5;241m1\u001b[39m), prediction\u001b[38;5;241m.\u001b[39margmax(axis\u001b[38;5;241m=\u001b[39m\u001b[38;5;241m1\u001b[39m)))\n",
      "\u001b[1;31mAttributeError\u001b[0m: 'numpy.ndarray' object has no attribute 'values'"
     ]
    }
   ],
   "source": [
    "from sklearn.metrics import confusion_matrix\n",
    "print(confusion_matrix(y_test.values.argmax(axis=1), prediction.argmax(axis=1)))"
   ]
  },
  {
   "cell_type": "code",
   "execution_count": null,
   "id": "23afbaec",
   "metadata": {},
   "outputs": [],
   "source": []
  }
 ],
 "metadata": {
  "kernelspec": {
   "display_name": "Python 3 (ipykernel)",
   "language": "python",
   "name": "python3"
  },
  "language_info": {
   "codemirror_mode": {
    "name": "ipython",
    "version": 3
   },
   "file_extension": ".py",
   "mimetype": "text/x-python",
   "name": "python",
   "nbconvert_exporter": "python",
   "pygments_lexer": "ipython3",
   "version": "3.10.2"
  }
 },
 "nbformat": 4,
 "nbformat_minor": 5
}
