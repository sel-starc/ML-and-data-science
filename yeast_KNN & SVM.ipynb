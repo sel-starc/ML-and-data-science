{
 "cells": [
  {
   "cell_type": "code",
   "execution_count": 2,
   "id": "d344544b",
   "metadata": {},
   "outputs": [],
   "source": [
    "import scipy\n",
    "import pandas as pd\n",
    "from scipy.io import arff\n",
    "from sklearn.model_selection import train_test_split\n",
    "\n",
    "import warnings\n",
    "from sklearn.exceptions import DataConversionWarning\n",
    "warnings.filterwarnings(action='ignore', category=DataConversionWarning)"
   ]
  },
  {
   "cell_type": "code",
   "execution_count": 4,
   "id": "0de04fd7",
   "metadata": {
    "scrolled": true
   },
   "outputs": [
    {
     "name": "stdout",
     "output_type": "stream",
     "text": [
      "       Att1      Att2      Att3      Att4      Att5      Att6      Att7  \\\n",
      "0  0.093700  0.139771  0.062774  0.007698  0.083873 -0.119156  0.073305   \n",
      "1 -0.022711 -0.050504 -0.035691 -0.065434 -0.084316 -0.378560  0.038212   \n",
      "2 -0.090407  0.021198  0.208712  0.102752  0.119315  0.041729 -0.021728   \n",
      "3 -0.085235  0.009540 -0.013228  0.094063 -0.013592 -0.030719 -0.116062   \n",
      "4 -0.088765 -0.026743  0.002075 -0.043819 -0.005465  0.004306 -0.055865   \n",
      "\n",
      "       Att8      Att9     Att10  ...  Class5  Class6  Class7  Class8  Class9  \\\n",
      "0  0.005510  0.027523  0.043477  ...    b'0'    b'0'    b'0'    b'0'    b'0'   \n",
      "1  0.085770  0.182613 -0.055544  ...    b'0'    b'0'    b'1'    b'1'    b'0'   \n",
      "2  0.019603 -0.063853 -0.053756  ...    b'0'    b'0'    b'0'    b'0'    b'0'   \n",
      "3 -0.131674 -0.165448 -0.123053  ...    b'0'    b'0'    b'0'    b'0'    b'0'   \n",
      "4 -0.071484 -0.159025 -0.111348  ...    b'0'    b'0'    b'0'    b'0'    b'0'   \n",
      "\n",
      "   Class10  Class11  Class12  Class13  Class14  \n",
      "0     b'0'     b'0'     b'0'     b'0'     b'0'  \n",
      "1     b'0'     b'0'     b'1'     b'1'     b'0'  \n",
      "2     b'0'     b'0'     b'1'     b'1'     b'0'  \n",
      "3     b'0'     b'0'     b'1'     b'1'     b'1'  \n",
      "4     b'0'     b'0'     b'0'     b'0'     b'0'  \n",
      "\n",
      "[5 rows x 117 columns]\n"
     ]
    }
   ],
   "source": [
    "data, meta = scipy.io.arff.loadarff(r'C:\\Users\\KIIT\\OneDrive\\Desktop\\MACHINE LEARNING\\yeast-train.arff')\n",
    "df = pd.DataFrame(data)\n",
    "print(df.head())\n",
    "#print(df.shape)"
   ]
  },
  {
   "cell_type": "code",
   "execution_count": 7,
   "id": "3b6c631f",
   "metadata": {},
   "outputs": [],
   "source": [
    "Xold = df.iloc[:, :103]\n",
    "y_old = df.iloc[:, 103:]\n",
    "X=Xold.astype(float)\n",
    "y=y_old.astype(float)\n",
    "\n",
    "#print(X.head())\n",
    "#print(X.shape)\n",
    "#print(y.head())\n",
    "#print(y.shape)"
   ]
  },
  {
   "cell_type": "code",
   "execution_count": 8,
   "id": "3c453cdd",
   "metadata": {},
   "outputs": [],
   "source": [
    "X_train, X_test, y_train, y_test = train_test_split(X, y, random_state=0, train_size=0.7)\n"
   ]
  },
  {
   "cell_type": "code",
   "execution_count": 9,
   "id": "7faf9910",
   "metadata": {
    "scrolled": true
   },
   "outputs": [
    {
     "name": "stderr",
     "output_type": "stream",
     "text": [
      "C:\\Users\\KIIT\\AppData\\Local\\Programs\\Python\\Python310\\lib\\site-packages\\sklearn\\base.py:443: UserWarning: X has feature names, but GaussianNB was fitted without feature names\n",
      "  warnings.warn(\n",
      "C:\\Users\\KIIT\\AppData\\Local\\Programs\\Python\\Python310\\lib\\site-packages\\sklearn\\base.py:443: UserWarning: X has feature names, but GaussianNB was fitted without feature names\n",
      "  warnings.warn(\n",
      "C:\\Users\\KIIT\\AppData\\Local\\Programs\\Python\\Python310\\lib\\site-packages\\sklearn\\base.py:443: UserWarning: X has feature names, but GaussianNB was fitted without feature names\n",
      "  warnings.warn(\n",
      "C:\\Users\\KIIT\\AppData\\Local\\Programs\\Python\\Python310\\lib\\site-packages\\sklearn\\base.py:443: UserWarning: X has feature names, but GaussianNB was fitted without feature names\n",
      "  warnings.warn(\n",
      "C:\\Users\\KIIT\\AppData\\Local\\Programs\\Python\\Python310\\lib\\site-packages\\sklearn\\base.py:443: UserWarning: X has feature names, but GaussianNB was fitted without feature names\n",
      "  warnings.warn(\n",
      "C:\\Users\\KIIT\\AppData\\Local\\Programs\\Python\\Python310\\lib\\site-packages\\sklearn\\base.py:443: UserWarning: X has feature names, but GaussianNB was fitted without feature names\n",
      "  warnings.warn(\n",
      "C:\\Users\\KIIT\\AppData\\Local\\Programs\\Python\\Python310\\lib\\site-packages\\sklearn\\base.py:443: UserWarning: X has feature names, but GaussianNB was fitted without feature names\n",
      "  warnings.warn(\n",
      "C:\\Users\\KIIT\\AppData\\Local\\Programs\\Python\\Python310\\lib\\site-packages\\sklearn\\base.py:443: UserWarning: X has feature names, but GaussianNB was fitted without feature names\n",
      "  warnings.warn(\n",
      "C:\\Users\\KIIT\\AppData\\Local\\Programs\\Python\\Python310\\lib\\site-packages\\sklearn\\base.py:443: UserWarning: X has feature names, but GaussianNB was fitted without feature names\n",
      "  warnings.warn(\n",
      "C:\\Users\\KIIT\\AppData\\Local\\Programs\\Python\\Python310\\lib\\site-packages\\sklearn\\base.py:443: UserWarning: X has feature names, but GaussianNB was fitted without feature names\n",
      "  warnings.warn(\n",
      "C:\\Users\\KIIT\\AppData\\Local\\Programs\\Python\\Python310\\lib\\site-packages\\sklearn\\base.py:443: UserWarning: X has feature names, but GaussianNB was fitted without feature names\n",
      "  warnings.warn(\n",
      "C:\\Users\\KIIT\\AppData\\Local\\Programs\\Python\\Python310\\lib\\site-packages\\sklearn\\base.py:443: UserWarning: X has feature names, but GaussianNB was fitted without feature names\n",
      "  warnings.warn(\n",
      "C:\\Users\\KIIT\\AppData\\Local\\Programs\\Python\\Python310\\lib\\site-packages\\sklearn\\base.py:443: UserWarning: X has feature names, but GaussianNB was fitted without feature names\n",
      "  warnings.warn(\n",
      "C:\\Users\\KIIT\\AppData\\Local\\Programs\\Python\\Python310\\lib\\site-packages\\sklearn\\base.py:443: UserWarning: X has feature names, but GaussianNB was fitted without feature names\n",
      "  warnings.warn(\n"
     ]
    }
   ],
   "source": [
    "#BINARY RELEVANCE MODEL\n",
    "from skmultilearn.problem_transform import BinaryRelevance\n",
    "#from skmultilearn.problem_transform import BinaryRelevance\n",
    "from sklearn.naive_bayes import GaussianNB\n",
    "\n",
    "classifier = BinaryRelevance(GaussianNB())\n",
    "classifier.fit(X_train, y_train)\n",
    "\n",
    "predictions = classifier.predict(X_test)"
   ]
  },
  {
   "cell_type": "code",
   "execution_count": 17,
   "id": "a8de0bbd",
   "metadata": {},
   "outputs": [
    {
     "name": "stdout",
     "output_type": "stream",
     "text": [
      "[[85 27 19 13  2  0  0  0  0  0  0  1]\n",
      " [12 37 18  7  8  0  0  0  0  0  0  1]\n",
      " [ 8 19 32  6  2  1  0  0  0  0  0  0]\n",
      " [ 7  2  2 39  0  0  0  0  0  0  0  1]\n",
      " [ 9 16 10 13  1  0  0  0  0  0  0  0]\n",
      " [11  1  2  1  1  0  0  0  0  0  0  0]\n",
      " [ 3  5  4  2  0  0  0  0  0  0  0  0]\n",
      " [ 0  1  0  0  0  0  0  0  0  0  0  0]\n",
      " [ 0  1  0  0  0  0  0  0  0  0  0  0]\n",
      " [ 8  4  3  1  0  0  0  0  0  1  0  0]\n",
      " [ 1  0  0  0  0  0  0  0  0  0  0  0]\n",
      " [ 0  0  2  0  0  0  0  0  0  0  0  0]]\n"
     ]
    }
   ],
   "source": [
    "#confustion matrix code!!!!!!!!!!!!!!!!!!!!!!!!!!\n",
    "from sklearn.metrics import confusion_matrix\n",
    "print(confusion_matrix(y_test.values.argmax(axis=1), predictions.argmax(axis=1)))\n",
    "\n",
    "#end of confusion matrix\n"
   ]
  },
  {
   "cell_type": "markdown",
   "id": "a2fb98cb",
   "metadata": {},
   "source": [
    "### "
   ]
  },
  {
   "cell_type": "code",
   "execution_count": 11,
   "id": "b114ef70",
   "metadata": {},
   "outputs": [
    {
     "name": "stdout",
     "output_type": "stream",
     "text": [
      "Knn accuracy score: 0.19777777777777777\n",
      "\n",
      "\n"
     ]
    }
   ],
   "source": [
    "#KNN MODEL\n",
    "from sklearn.neighbors import KNeighborsClassifier\n",
    "#knn code\n",
    "knn = KNeighborsClassifier(n_neighbors=5, metric='euclidean')\n",
    "knn.fit(X_train, y_train)\n",
    "knn_predictions=knn.predict(X_test);\n",
    "print(\"Knn accuracy score: \", end=\"\")\n",
    "print(accuracy_score(y_test,knn_predictions))\n",
    "print()\n",
    "print()"
   ]
  },
  {
   "cell_type": "code",
   "execution_count": 13,
   "id": "8b8acccf",
   "metadata": {},
   "outputs": [
    {
     "name": "stdout",
     "output_type": "stream",
     "text": [
      "[[69 21 17 16  9  4  1  1  0  0  0  9]\n",
      " [ 8 35 15  4  8  0  3  2  0  0  0  8]\n",
      " [ 4 14 30 10  4  0  1  1  0  0  0  4]\n",
      " [ 1  3  1 43  2  0  0  0  0  0  0  1]\n",
      " [ 6 10 13  6 10  0  0  1  0  1  0  2]\n",
      " [ 6  3  2  2  0  1  1  0  0  0  0  1]\n",
      " [ 1  2  6  3  0  0  1  0  0  0  0  1]\n",
      " [ 0  0  0  0  0  0  0  0  0  1  0  0]\n",
      " [ 1  0  0  0  0  0  0  0  0  0  0  0]\n",
      " [ 4  6  2  2  0  0  0  0  0  0  0  3]\n",
      " [ 0  0  0  0  0  0  0  0  0  0  0  1]\n",
      " [ 0  0  0  1  1  0  0  0  0  0  0  0]]\n"
     ]
    }
   ],
   "source": [
    "#confustion matrix code!!!!!!!!!!!!!!!!!!!!!!!!!!\n",
    "from sklearn.metrics import confusion_matrix\n",
    "print(confusion_matrix(y_test.values.argmax(axis=1), knn_predictions.argmax(axis=1)))\n",
    "#from sklearn.metrics import multilabel_confusion_matrix\n",
    "#print(multilabel_confusion_matrix(y_test.values,knn_predictions))"
   ]
  },
  {
   "cell_type": "code",
   "execution_count": 14,
   "id": "f39fad96",
   "metadata": {},
   "outputs": [],
   "source": [
    "#SVM\n",
    "from sklearn import svm\n",
    "from sklearn.metrics import accuracy_score"
   ]
  },
  {
   "cell_type": "code",
   "execution_count": 1,
   "id": "d305f2b0",
   "metadata": {},
   "outputs": [
    {
     "ename": "NameError",
     "evalue": "name 'X_train' is not defined",
     "output_type": "error",
     "traceback": [
      "\u001b[1;31m---------------------------------------------------------------------------\u001b[0m",
      "\u001b[1;31mNameError\u001b[0m                                 Traceback (most recent call last)",
      "Input \u001b[1;32mIn [1]\u001b[0m, in \u001b[0;36m<module>\u001b[1;34m\u001b[0m\n\u001b[0;32m      3\u001b[0m \u001b[38;5;28;01mfrom\u001b[39;00m \u001b[38;5;21;01msklearn\u001b[39;00m\u001b[38;5;21;01m.\u001b[39;00m\u001b[38;5;21;01mpreprocessing\u001b[39;00m \u001b[38;5;28;01mimport\u001b[39;00m StandardScaler\n\u001b[0;32m      4\u001b[0m st_x\u001b[38;5;241m=\u001b[39mStandardScaler()\n\u001b[1;32m----> 5\u001b[0m X_train\u001b[38;5;241m=\u001b[39mst_x\u001b[38;5;241m.\u001b[39mfit_transform(\u001b[43mX_train\u001b[49m)\n\u001b[0;32m      6\u001b[0m X_test\u001b[38;5;241m=\u001b[39mst_x\u001b[38;5;241m.\u001b[39mfit_transform(X_test)\n\u001b[0;32m      7\u001b[0m classifier1\u001b[38;5;241m=\u001b[39mSVC(kernel\u001b[38;5;241m=\u001b[39m\u001b[38;5;124m'\u001b[39m\u001b[38;5;124mlinear\u001b[39m\u001b[38;5;124m'\u001b[39m,random_state\u001b[38;5;241m=\u001b[39m\u001b[38;5;241m0\u001b[39m)\n",
      "\u001b[1;31mNameError\u001b[0m: name 'X_train' is not defined"
     ]
    }
   ],
   "source": [
    "#svm code\n",
    "from sklearn.svm import SVC\n",
    "from sklearn.preprocessing import StandardScaler\n",
    "st_x=StandardScaler()\n",
    "X_train=st_x.fit_transform(X_train)\n",
    "X_test=st_x.fit_transform(X_test)\n",
    "classifier1=SVC(kernel='linear',random_state=0)\n",
    "#classifier1.fit(X_train,y_train)\n",
    "\n",
    "\n"
   ]
  },
  {
   "cell_type": "code",
   "execution_count": null,
   "id": "fc1879f5",
   "metadata": {},
   "outputs": [],
   "source": []
  }
 ],
 "metadata": {
  "kernelspec": {
   "display_name": "Python 3 (ipykernel)",
   "language": "python",
   "name": "python3"
  },
  "language_info": {
   "codemirror_mode": {
    "name": "ipython",
    "version": 3
   },
   "file_extension": ".py",
   "mimetype": "text/x-python",
   "name": "python",
   "nbconvert_exporter": "python",
   "pygments_lexer": "ipython3",
   "version": "3.10.2"
  }
 },
 "nbformat": 4,
 "nbformat_minor": 5
}
